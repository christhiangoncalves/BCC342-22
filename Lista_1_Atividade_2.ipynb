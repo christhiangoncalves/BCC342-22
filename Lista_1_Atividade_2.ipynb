{
  "nbformat": 4,
  "nbformat_minor": 0,
  "metadata": {
    "colab": {
      "name": "Lista_1 Atividade_2.ipynb",
      "provenance": [],
      "collapsed_sections": [],
      "authorship_tag": "ABX9TyNUsHGOJkG1c1tiN+3FWP72",
      "include_colab_link": true
    },
    "kernelspec": {
      "name": "python3",
      "display_name": "Python 3"
    }
  },
  "cells": [
    {
      "cell_type": "markdown",
      "metadata": {
        "id": "view-in-github",
        "colab_type": "text"
      },
      "source": [
        "<a href=\"https://colab.research.google.com/github/christhiangoncalves/BCC342-22/blob/main/Lista_1_Atividade_2.ipynb\" target=\"_parent\"><img src=\"https://colab.research.google.com/assets/colab-badge.svg\" alt=\"Open In Colab\"/></a>"
      ]
    },
    {
      "cell_type": "code",
      "metadata": {
        "colab": {
          "base_uri": "https://localhost:8080/"
        },
        "id": "psU6NXthEWFw",
        "outputId": "896a33ed-a17a-4e3d-bfed-3d3f147eafd7"
      },
      "source": [
        "!pip install MIP"
      ],
      "execution_count": null,
      "outputs": [
        {
          "output_type": "stream",
          "text": [
            "Requirement already satisfied: MIP in /usr/local/lib/python3.6/dist-packages (1.13.0)\n",
            "Requirement already satisfied: cffi in /usr/local/lib/python3.6/dist-packages (from MIP) (1.14.4)\n",
            "Requirement already satisfied: pycparser in /usr/local/lib/python3.6/dist-packages (from cffi->MIP) (2.20)\n"
          ],
          "name": "stdout"
        }
      ]
    },
    {
      "cell_type": "code",
      "metadata": {
        "id": "FScPMzt3Ez-t"
      },
      "source": [
        "from mip import Model, xsum, INTEGER, MAXIMIZE, MINIMIZE"
      ],
      "execution_count": null,
      "outputs": []
    },
    {
      "cell_type": "code",
      "metadata": {
        "id": "VYiN_PEzGM-x"
      },
      "source": [
        "nvars = 2\r\n",
        "obj_coef = [15,40]\r\n",
        "g_coef = [[1,4],\r\n",
        "          [1,-4]]\r\n",
        "\r\n",
        "g_val = [4080,0]\r\n",
        "\r\n",
        "m = Model('aço',sense = MAXIMIZE)\r\n"
      ],
      "execution_count": null,
      "outputs": []
    },
    {
      "cell_type": "code",
      "metadata": {
        "id": "k2_0WLQbLH89"
      },
      "source": [
        "x=[m.add_var(name='x{}'.format(int(i)),var_type=INTEGER,lb=0)for i in range(nvars)]"
      ],
      "execution_count": null,
      "outputs": []
    },
    {
      "cell_type": "code",
      "metadata": {
        "id": "QqUycT3kNlmm"
      },
      "source": [
        "m.objective = xsum(obj_coef[i]*x[i] for i in range(nvars))"
      ],
      "execution_count": null,
      "outputs": []
    },
    {
      "cell_type": "code",
      "metadata": {
        "id": "-Aps1MdoODDI"
      },
      "source": [
        "for i in range(len(g_val)):\r\n",
        "  \r\n",
        "  m += xsum(g_coef[i][j]*x[j] for j in range(nvars)) <= g_val[i]"
      ],
      "execution_count": null,
      "outputs": []
    },
    {
      "cell_type": "code",
      "metadata": {
        "colab": {
          "base_uri": "https://localhost:8080/"
        },
        "id": "ugCv-hS5STp2",
        "outputId": "d70724b2-f32a-4de9-bbe4-499a494b9c8f"
      },
      "source": [
        "m.optimize()"
      ],
      "execution_count": null,
      "outputs": [
        {
          "output_type": "execute_result",
          "data": {
            "text/plain": [
              "<OptimizationStatus.OPTIMAL: 0>"
            ]
          },
          "metadata": {
            "tags": []
          },
          "execution_count": 42
        }
      ]
    },
    {
      "cell_type": "code",
      "metadata": {
        "colab": {
          "base_uri": "https://localhost:8080/"
        },
        "id": "CkYINPYKSbBz",
        "outputId": "befa54ae-2e34-4b55-bcf6-010c6df465fa"
      },
      "source": [
        "print('optimal solution: {}'.format([x[i].x for i in range(nvars)]))"
      ],
      "execution_count": null,
      "outputs": [
        {
          "output_type": "stream",
          "text": [
            "optimal solution: [2040.0, 510.0]\n"
          ],
          "name": "stdout"
        }
      ]
    }
  ]
}