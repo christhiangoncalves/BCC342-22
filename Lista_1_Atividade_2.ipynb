{
  "nbformat": 4,
  "nbformat_minor": 0,
  "metadata": {
    "colab": {
      "name": "Lista_1 Atividade_2.ipynb",
      "provenance": [],
      "collapsed_sections": [],
      "authorship_tag": "ABX9TyMb0ZWh2G647mKaW9Hq5sRD",
      "include_colab_link": true
    },
    "kernelspec": {
      "name": "python3",
      "display_name": "Python 3"
    }
  },
  "cells": [
    {
      "cell_type": "markdown",
      "metadata": {
        "id": "view-in-github",
        "colab_type": "text"
      },
      "source": [
        "<a href=\"https://colab.research.google.com/github/christhiangoncalves/BCC342-22/blob/main/Lista_1_Atividade_2.ipynb\" target=\"_parent\"><img src=\"https://colab.research.google.com/assets/colab-badge.svg\" alt=\"Open In Colab\"/></a>"
      ]
    },
    {
      "cell_type": "markdown",
      "metadata": {
        "id": "EQXz80Que75A"
      },
      "source": [
        "Exercicio 2 - Lista 01"
      ]
    },
    {
      "cell_type": "markdown",
      "metadata": {
        "id": "2nqL4FvrfGlR"
      },
      "source": [
        "Problema da Estampagem de aço"
      ]
    },
    {
      "cell_type": "code",
      "metadata": {
        "colab": {
          "base_uri": "https://localhost:8080/"
        },
        "id": "psU6NXthEWFw",
        "outputId": "8b206fb7-c09d-4be5-bd79-a20cee6f0698"
      },
      "source": [
        "!pip install MIP"
      ],
      "execution_count": 26,
      "outputs": [
        {
          "output_type": "stream",
          "text": [
            "Requirement already satisfied: MIP in /usr/local/lib/python3.6/dist-packages (1.13.0)\n",
            "Requirement already satisfied: cffi in /usr/local/lib/python3.6/dist-packages (from MIP) (1.14.4)\n",
            "Requirement already satisfied: pycparser in /usr/local/lib/python3.6/dist-packages (from cffi->MIP) (2.20)\n"
          ],
          "name": "stdout"
        }
      ]
    },
    {
      "cell_type": "code",
      "metadata": {
        "id": "FScPMzt3Ez-t"
      },
      "source": [
        "from mip import Model, xsum, INTEGER, MAXIMIZE, MINIMIZE"
      ],
      "execution_count": 27,
      "outputs": []
    },
    {
      "cell_type": "code",
      "metadata": {
        "id": "VYiN_PEzGM-x"
      },
      "source": [
        "nvars = 2\r\n",
        "obj_coef = [15,40]\r\n",
        "g_coef = [[1,4],\r\n",
        "          [1,-4]]\r\n",
        "\r\n",
        "g_val = [4080,0]\r\n",
        "\r\n",
        "m = Model('aço',sense = MAXIMIZE)\r\n"
      ],
      "execution_count": 28,
      "outputs": []
    },
    {
      "cell_type": "code",
      "metadata": {
        "id": "k2_0WLQbLH89"
      },
      "source": [
        "x=[m.add_var(name='x{}'.format(int(i)),var_type=INTEGER,lb=0)for i in range(nvars)]"
      ],
      "execution_count": 29,
      "outputs": []
    },
    {
      "cell_type": "code",
      "metadata": {
        "id": "QqUycT3kNlmm"
      },
      "source": [
        "m.objective = xsum(obj_coef[i]*x[i] for i in range(nvars))"
      ],
      "execution_count": 30,
      "outputs": []
    },
    {
      "cell_type": "code",
      "metadata": {
        "id": "-Aps1MdoODDI"
      },
      "source": [
        "for i in range(len(g_val)):\r\n",
        "  \r\n",
        "  m += xsum(g_coef[i][j]*x[j] for j in range(nvars)) <= g_val[i]"
      ],
      "execution_count": 31,
      "outputs": []
    },
    {
      "cell_type": "code",
      "metadata": {
        "colab": {
          "base_uri": "https://localhost:8080/"
        },
        "id": "ugCv-hS5STp2",
        "outputId": "595df60a-d240-4c63-c5b2-1440539184bd"
      },
      "source": [
        "m.optimize()"
      ],
      "execution_count": 32,
      "outputs": [
        {
          "output_type": "execute_result",
          "data": {
            "text/plain": [
              "<OptimizationStatus.OPTIMAL: 0>"
            ]
          },
          "metadata": {
            "tags": []
          },
          "execution_count": 32
        }
      ]
    },
    {
      "cell_type": "code",
      "metadata": {
        "colab": {
          "base_uri": "https://localhost:8080/"
        },
        "id": "CkYINPYKSbBz",
        "outputId": "bfb2ac95-9dea-4f16-d9ba-7fcb0758ec00"
      },
      "source": [
        "print('optimal solution: {}'.format([x[i].x for i in range(nvars)]))"
      ],
      "execution_count": 33,
      "outputs": [
        {
          "output_type": "stream",
          "text": [
            "optimal solution: [2040.0, 510.0]\n"
          ],
          "name": "stdout"
        }
      ]
    },
    {
      "cell_type": "markdown",
      "metadata": {
        "id": "36aI5PQMe48o"
      },
      "source": [
        "Problema do custo de trasnporte"
      ]
    },
    {
      "cell_type": "code",
      "metadata": {
        "id": "xj7B_jjYhgBl"
      },
      "source": [
        "cost = [[40,50,55,9999999],\r\n",
        "        [999999999,60,30,50]]\r\n",
        "\r\n",
        "m = Model('Casacos',sense=MINIMIZE)\r\n",
        "\r\n",
        "x = [[m.add_var(var_type=INTEGER,lb=0) for j in range(4)] for i in range(2)]"
      ],
      "execution_count": 35,
      "outputs": []
    },
    {
      "cell_type": "code",
      "metadata": {
        "id": "3Ux2xLY5mDP-"
      },
      "source": [
        "m.objective = xsum(cost[i][j]*x[i][j] for i in range(2) for j in range(4))"
      ],
      "execution_count": 36,
      "outputs": []
    },
    {
      "cell_type": "code",
      "metadata": {
        "id": "f8avQ8T6mHaQ"
      },
      "source": [
        "m += x[1][0] == 0\r\n",
        "m += x[0][3] == 0\r\n",
        "m += xsum(x[0][j] for j in range(4)) == 6000\r\n",
        "m += xsum(x[1][j] for j in range(4)) == 9000\r\n",
        "m += x[0][0] <= 2500\r\n",
        "m += x[1][3] <= 3500 \r\n",
        "m += xsum(x[i][1] for i in range(2)) <= 4500\r\n",
        "m += xsum(x[i][2] for i in range(2)) <= 5500"
      ],
      "execution_count": 37,
      "outputs": []
    },
    {
      "cell_type": "code",
      "metadata": {
        "colab": {
          "base_uri": "https://localhost:8080/"
        },
        "id": "W3EO0kX3mK9h",
        "outputId": "8026abf1-a602-4c35-8946-24d6a9677e1d"
      },
      "source": [
        "m.optimize()"
      ],
      "execution_count": 38,
      "outputs": [
        {
          "output_type": "execute_result",
          "data": {
            "text/plain": [
              "<OptimizationStatus.OPTIMAL: 0>"
            ]
          },
          "metadata": {
            "tags": []
          },
          "execution_count": 38
        }
      ]
    },
    {
      "cell_type": "code",
      "metadata": {
        "colab": {
          "base_uri": "https://localhost:8080/"
        },
        "id": "TDN8dntRmPAb",
        "outputId": "8165b640-86b3-4c62-aeba-34c35d40997e"
      },
      "source": [
        "print('Optimal Solution: {}'.format([x[i][j].x for i in range(2) for j in range(4)]))"
      ],
      "execution_count": 39,
      "outputs": [
        {
          "output_type": "stream",
          "text": [
            "Optimal Solution: [2500.0, 3500.0, 0.0, 0.0, 0.0, 0.0, 5500.0, 3500.0]\n"
          ],
          "name": "stdout"
        }
      ]
    }
  ]
}